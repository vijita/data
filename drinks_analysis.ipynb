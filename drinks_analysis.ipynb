{
 "cells": [
  {
   "cell_type": "markdown",
   "metadata": {},
   "source": [
    "# Drinks Dataset - Interactive Exploratory Data Analysis\n",
    "\n",
    "This notebook provides an interactive exploration of the drinks dataset, containing alcohol consumption data for 193 countries."
   ]
  },
  {
   "cell_type": "code",
   "execution_count": null,
   "metadata": {},
   "outputs": [],
   "source": [
    "# Import required libraries\n",
    "import pandas as pd\n",
    "import numpy as np\n",
    "import matplotlib.pyplot as plt\n",
    "import seaborn as sns\n",
    "from scipy import stats\n",
    "import warnings\n",
    "warnings.filterwarnings('ignore')\n",
    "\n",
    "# Set up plotting style\n",
    "plt.style.use('default')\n",
    "sns.set_palette(\"husl\")\n",
    "plt.rcParams['figure.figsize'] = (10, 6)"
   ]
  },
  {
   "cell_type": "markdown",
   "metadata": {},
   "source": [
    "## 1. Data Loading and Basic Inspection"
   ]
  },
  {
   "cell_type": "code",
   "execution_count": null,
   "metadata": {},
   "outputs": [],
   "source": [
    "# Load the dataset\n",
    "df = pd.read_csv('drinks.csv')\n",
    "\n",
    "print(f\"Dataset shape: {df.shape}\")\n",
    "print(f\"Number of countries: {df.shape[0]}\")\n",
    "print(f\"Number of features: {df.shape[1]}\")\n",
    "\n",
    "# Display basic info\n",
    "df.info()"
   ]
  },
  {
   "cell_type": "code",
   "execution_count": null,
   "metadata": {},
   "outputs": [],
   "source": [
    "# Display first few rows\n",
    "df.head(10)"
   ]
  },
  {
   "cell_type": "code",
   "execution_count": null,
   "metadata": {},
   "outputs": [],
   "source": [
    "# Check for missing values and duplicates\n",
    "print(\"Missing values per column:\")\n",
    "print(df.isnull().sum())\n",
    "print(f\"\\nNumber of duplicate rows: {df.duplicated().sum()}\")\n",
    "print(f\"\\nUnique continents: {df['continent'].nunique()}\")\n",
    "print(\"\\nCountries per continent:\")\n",
    "print(df['continent'].value_counts())"
   ]
  },
  {
   "cell_type": "markdown",
   "metadata": {},
   "source": [
    "## 2. Descriptive Statistics"
   ]
  },
  {
   "cell_type": "code",
   "execution_count": null,
   "metadata": {},
   "outputs": [],
   "source": [
    "# Descriptive statistics for numerical columns\n",
    "numerical_cols = ['beer_servings', 'spirit_servings', 'wine_servings', 'total_litres_of_pure_alcohol']\n",
    "df[numerical_cols].describe()"
   ]
  },
  {
   "cell_type": "code",
   "execution_count": null,
   "metadata": {},
   "outputs": [],
   "source": [
    "# Distribution plots\n",
    "fig, axes = plt.subplots(2, 2, figsize=(15, 10))\n",
    "axes = axes.ravel()\n",
    "\n",
    "for i, col in enumerate(numerical_cols):\n",
    "    axes[i].hist(df[col], bins=20, alpha=0.7, edgecolor='black')\n",
    "    axes[i].set_title(f'Distribution of {col.replace(\"_\", \" \").title()}')\n",
    "    axes[i].set_xlabel(col.replace('_', ' ').title())\n",
    "    axes[i].set_ylabel('Frequency')\n",
    "\n",
    "plt.tight_layout()\n",
    "plt.show()"
   ]
  },
  {
   "cell_type": "markdown",
   "metadata": {},
   "source": [
    "## 3. Continental Analysis"
   ]
  },
  {
   "cell_type": "code",
   "execution_count": null,
   "metadata": {},
   "outputs": [],
   "source": [
    "# Average consumption by continent\n",
    "continent_avg = df.groupby('continent')[numerical_cols].mean().round(2)\n",
    "continent_avg"
   ]
  },
  {
   "cell_type": "code",
   "execution_count": null,
   "metadata": {},
   "outputs": [],
   "source": [
    "# Continent comparison visualization\n",
    "fig, axes = plt.subplots(2, 2, figsize=(15, 10))\n",
    "axes = axes.ravel()\n",
    "\n",
    "for i, col in enumerate(numerical_cols):\n",
    "    continent_avg[col].plot(kind='bar', ax=axes[i])\n",
    "    axes[i].set_title(f'Average {col.replace(\"_\", \" \").title()} by Continent')\n",
    "    axes[i].set_ylabel('Servings' if 'servings' in col else 'Litres')\n",
    "    axes[i].tick_params(axis='x', rotation=45)\n",
    "\n",
    "plt.tight_layout()\n",
    "plt.show()"
   ]
  },
  {
   "cell_type": "code",
   "execution_count": null,
   "metadata": {},
   "outputs": [],
   "source": [
    "# Box plots by continent\n",
    "fig, axes = plt.subplots(2, 2, figsize=(15, 10))\n",
    "axes = axes.ravel()\n",
    "\n",
    "for i, col in enumerate(numerical_cols):\n",
    "    sns.boxplot(data=df, x='continent', y=col, ax=axes[i])\n",
    "    axes[i].set_title(f'{col.replace(\"_\", \" \").title()} by Continent')\n",
    "    axes[i].tick_params(axis='x', rotation=45)\n",
    "\n",
    "plt.tight_layout()\n",
    "plt.show()"
   ]
  },
  {
   "cell_type": "markdown",
   "metadata": {},
   "source": [
    "## 4. Correlation Analysis"
   ]
  },
  {
   "cell_type": "code",
   "execution_count": null,
   "metadata": {},
   "outputs": [],
   "source": [
    "# Correlation matrix\n",
    "correlation_matrix = df[numerical_cols].corr()\n",
    "print(\"Correlation Matrix:\")\n",
    "print(correlation_matrix.round(3))"
   ]
  },
  {
   "cell_type": "code",
   "execution_count": null,
   "metadata": {},
   "outputs": [],
   "source": [
    "# Correlation heatmap\n",
    "plt.figure(figsize=(10, 8))\n",
    "sns.heatmap(correlation_matrix, annot=True, cmap='coolwarm', center=0, \n",
    "            square=True, fmt='.3f')\n",
    "plt.title('Correlation Matrix - Alcohol Consumption Types')\n",
    "plt.tight_layout()\n",
    "plt.show()"
   ]
  },
  {
   "cell_type": "code",
   "execution_count": null,
   "metadata": {},
   "outputs": [],
   "source": [
    "# Scatter plots matrix\n",
    "fig, axes = plt.subplots(1, 3, figsize=(18, 5))\n",
    "\n",
    "# Beer vs Total\n",
    "axes[0].scatter(df['beer_servings'], df['total_litres_of_pure_alcohol'], alpha=0.6)\n",
    "axes[0].set_xlabel('Beer Servings')\n",
    "axes[0].set_ylabel('Total Litres of Pure Alcohol')\n",
    "axes[0].set_title('Beer vs Total Alcohol Consumption')\n",
    "\n",
    "# Wine vs Total\n",
    "axes[1].scatter(df['wine_servings'], df['total_litres_of_pure_alcohol'], alpha=0.6)\n",
    "axes[1].set_xlabel('Wine Servings')\n",
    "axes[1].set_ylabel('Total Litres of Pure Alcohol')\n",
    "axes[1].set_title('Wine vs Total Alcohol Consumption')\n",
    "\n",
    "# Spirits vs Total\n",
    "axes[2].scatter(df['spirit_servings'], df['total_litres_of_pure_alcohol'], alpha=0.6)\n",
    "axes[2].set_xlabel('Spirit Servings')\n",
    "axes[2].set_ylabel('Total Litres of Pure Alcohol')\n",
    "axes[2].set_title('Spirits vs Total Alcohol Consumption')\n",
    "\n",
    "plt.tight_layout()\n",
    "plt.show()"
   ]
  },
  {
   "cell_type": "markdown",
   "metadata": {},
   "source": [
    "## 5. Top Consumers Analysis"
   ]
  },
  {
   "cell_type": "code",
   "execution_count": null,
   "metadata": {},
   "outputs": [],
   "source": [
    "# Top 10 consumers for each alcohol type\n",
    "for col in numerical_cols:\n",
    "    print(f\"\\n=== TOP 10 {col.upper().replace('_', ' ')} CONSUMERS ===\")\n",
    "    top_10 = df.nlargest(10, col)[['country', col]]\n",
    "    for idx, (_, row) in enumerate(top_10.iterrows(), 1):\n",
    "        print(f\"{idx:2d}. {row['country']}: {row[col]}\")"
   ]
  },
  {
   "cell_type": "code",
   "execution_count": null,
   "metadata": {},
   "outputs": [],
   "source": [
    "# Countries with zero consumption\n",
    "print(\"COUNTRIES WITH ZERO ALCOHOL CONSUMPTION:\")\n",
    "zero_countries = df[df['total_litres_of_pure_alcohol'] == 0]['country'].tolist()\n",
    "print(f\"Total: {len(zero_countries)} countries\")\n",
    "print(\"Countries:\", \", \".join(zero_countries))"
   ]
  },
  {
   "cell_type": "markdown",
   "metadata": {},
   "source": [
    "## 6. Interactive Exploration"
   ]
  },
  {
   "cell_type": "code",
   "execution_count": null,
   "metadata": {},
   "outputs": [],
   "source": [
    "# Function to explore specific countries\n",
    "def explore_country(country_name):\n",
    "    country_data = df[df['country'].str.contains(country_name, case=False, na=False)]\n",
    "    if not country_data.empty:\n",
    "        return country_data[['country', 'beer_servings', 'spirit_servings', 'wine_servings', \n",
    "                           'total_litres_of_pure_alcohol', 'continent']]\n",
    "    else:\n",
    "        return f\"No country found containing '{country_name}'\"\n",
    "\n",
    "# Example usage - try different countries\n",
    "print(\"Example: Search for 'United'\")\n",
    "explore_country('United')"
   ]
  },
  {
   "cell_type": "code",
   "execution_count": null,
   "metadata": {},
   "outputs": [],
   "source": [
    "# Function to compare countries\n",
    "def compare_countries(countries_list):\n",
    "    comparison = df[df['country'].isin(countries_list)]\n",
    "    if not comparison.empty:\n",
    "        fig, ax = plt.subplots(figsize=(12, 6))\n",
    "        comparison.set_index('country')[numerical_cols].plot(kind='bar', ax=ax)\n",
    "        plt.title('Country Comparison - Alcohol Consumption')\n",
    "        plt.ylabel('Servings/Litres')\n",
    "        plt.legend(bbox_to_anchor=(1.05, 1), loc='upper left')\n",
    "        plt.xticks(rotation=45)\n",
    "        plt.tight_layout()\n",
    "        plt.show()\n",
    "        return comparison[['country', 'beer_servings', 'spirit_servings', 'wine_servings', \n",
    "                         'total_litres_of_pure_alcohol', 'continent']]\n",
    "    else:\n",
    "        return \"No countries found in the list\"\n",
    "\n",
    "# Example comparison\n",
    "example_countries = ['Germany', 'France', 'Italy', 'Spain']\n",
    "print(f\"Comparing: {', '.join(example_countries)}\")\n",
    "compare_countries(example_countries)"
   ]
  },
  {
   "cell_type": "markdown",
   "metadata": {},
   "source": [
    "## 7. Summary Statistics by Continent"
   ]
  },
  {
   "cell_type": "code",
   "execution_count": null,
   "metadata": {},
   "outputs": [],
   "source": [
    "# Comprehensive continent statistics\n",
    "continent_stats = df.groupby('continent')[numerical_cols].agg(['mean', 'median', 'std', 'min', 'max']).round(2)\n",
    "continent_stats"
   ]
  },
  {
   "cell_type": "markdown",
   "metadata": {},
   "source": [
    "## 8. Key Insights\n",
    "\n",
    "### Major Findings:\n",
    "1. **Europe** dominates in beer, wine, and total alcohol consumption\n",
    "2. **North America** leads in spirit consumption\n",
    "3. **Beer consumption** has the strongest correlation (0.836) with total alcohol consumption\n",
    "4. **13 countries** report zero alcohol consumption, likely due to cultural/religious factors\n",
    "5. **Wide variation** exists both within and between continents\n",
    "\n",
    "### Top Global Consumers:\n",
    "- **Beer**: Namibia (376 servings/year)\n",
    "- **Spirits**: Grenada (438 servings/year) \n",
    "- **Wine**: France (370 servings/year)\n",
    "- **Total Alcohol**: Belarus (14.4 litres/year)\n",
    "\n",
    "Use the cells above to explore specific countries and create custom comparisons!"
   ]
  }
 ],
 "metadata": {
  "kernelspec": {
   "display_name": "Python 3",
   "language": "python",
   "name": "python3"
  },
  "language_info": {
   "codemirror_mode": {
    "name": "ipython",
    "version": 3
   },
   "file_extension": ".py",
   "mimetype": "text/x-python",
   "name": "python",
   "nbconvert_exporter": "python",
   "pygments_lexer": "ipython3",
   "version": "3.8.5"
  }
 },
 "nbformat": 4,
 "nbformat_minor": 4
}